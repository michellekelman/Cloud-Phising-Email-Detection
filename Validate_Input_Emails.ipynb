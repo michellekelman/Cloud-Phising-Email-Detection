{
 "cells": [
  {
   "cell_type": "code",
   "execution_count": 1,
   "id": "036bf916-cf26-4a55-9166-3cc26d6d91ea",
   "metadata": {
    "tags": []
   },
   "outputs": [
    {
     "name": "stdout",
     "output_type": "stream",
     "text": [
      "Requirement already satisfied: boto3 in /home/ec2-user/anaconda3/envs/python3/lib/python3.10/site-packages (1.34.143)\n",
      "Requirement already satisfied: botocore<1.35.0,>=1.34.143 in /home/ec2-user/anaconda3/envs/python3/lib/python3.10/site-packages (from boto3) (1.34.143)\n",
      "Requirement already satisfied: jmespath<2.0.0,>=0.7.1 in /home/ec2-user/anaconda3/envs/python3/lib/python3.10/site-packages (from boto3) (1.0.1)\n",
      "Requirement already satisfied: s3transfer<0.11.0,>=0.10.0 in /home/ec2-user/anaconda3/envs/python3/lib/python3.10/site-packages (from boto3) (0.10.1)\n",
      "Requirement already satisfied: python-dateutil<3.0.0,>=2.1 in /home/ec2-user/anaconda3/envs/python3/lib/python3.10/site-packages (from botocore<1.35.0,>=1.34.143->boto3) (2.9.0)\n",
      "Requirement already satisfied: urllib3!=2.2.0,<3,>=1.25.4 in /home/ec2-user/anaconda3/envs/python3/lib/python3.10/site-packages (from botocore<1.35.0,>=1.34.143->boto3) (2.2.1)\n",
      "Requirement already satisfied: six>=1.5 in /home/ec2-user/anaconda3/envs/python3/lib/python3.10/site-packages (from python-dateutil<3.0.0,>=2.1->botocore<1.35.0,>=1.34.143->boto3) (1.16.0)\n",
      "Note: you may need to restart the kernel to use updated packages.\n"
     ]
    }
   ],
   "source": [
    "pip install boto3"
   ]
  },
  {
   "cell_type": "code",
   "execution_count": 6,
   "id": "75017216-1f9c-403e-9530-d8b191c9af6d",
   "metadata": {
    "tags": []
   },
   "outputs": [],
   "source": [
    "import boto3\n",
    "import joblib\n",
    "import pandas as pd\n",
    "import re\n",
    "from io import StringIO\n",
    "from email import policy\n",
    "from email.parser import BytesParser\n",
    "from io import BytesIO"
   ]
  },
  {
   "cell_type": "code",
   "execution_count": 3,
   "id": "7c076476-8965-4c94-8487-f66e2e139cbd",
   "metadata": {
    "tags": []
   },
   "outputs": [],
   "source": [
    "# Define preprocessing function\n",
    "def preprocess_text(text):\n",
    "    text = text.lower()  # Convert to lowercase\n",
    "    text = re.sub(r'\\d+', '', text)  # Remove numbers\n",
    "    text = re.sub(r'\\s+', ' ', text)  # Replace multiple spaces with a single space\n",
    "    text = re.sub(r'[^\\w\\s]', '', text)  # Remove punctuation\n",
    "    return text"
   ]
  },
  {
   "cell_type": "code",
   "execution_count": 4,
   "id": "e4ff4fec-768a-4c21-b777-906cd6d8c8c2",
   "metadata": {
    "tags": []
   },
   "outputs": [],
   "source": [
    "# Load the saved model\n",
    "model_filename = 'CountVectorizer_Logistic_Regression_model.pkl'  \n",
    "model = joblib.load(model_filename)"
   ]
  },
  {
   "cell_type": "code",
   "execution_count": 5,
   "id": "75ddf89c-fe34-4244-b96c-df305eb3da32",
   "metadata": {
    "tags": []
   },
   "outputs": [],
   "source": [
    "# AWS S3 configuration\n",
    "s3_bucket_name = 'spam-email-test-data'\n",
    "s3_folder = 'test-emails/'"
   ]
  },
  {
   "cell_type": "code",
   "execution_count": 7,
   "id": "5f5c794c-d16f-4d2a-9d82-468fdad9d56a",
   "metadata": {
    "tags": []
   },
   "outputs": [],
   "source": [
    "# Create an S3 client\n",
    "s3_client = boto3.client('s3')"
   ]
  },
  {
   "cell_type": "code",
   "execution_count": 8,
   "id": "0b4b995b-6e40-49bb-8147-26b1c126f521",
   "metadata": {
    "tags": []
   },
   "outputs": [],
   "source": [
    "# Function to read email content from S3\n",
    "def read_email_from_s3(file_key):\n",
    "    obj = s3_client.get_object(Bucket=s3_bucket_name, Key=file_key)\n",
    "    email_bytes = obj['Body'].read()\n",
    "    email_message = BytesParser(policy=policy.default).parsebytes(email_bytes)\n",
    "    return email_message.get_body(preferencelist=('plain', 'html')).get_content()"
   ]
  },
  {
   "cell_type": "code",
   "execution_count": 9,
   "id": "e6b1aa75-688d-4413-b3c5-4c06006eece0",
   "metadata": {
    "tags": []
   },
   "outputs": [
    {
     "name": "stdout",
     "output_type": "stream",
     "text": [
      "The email from test-emails/Red White & Glow Sale!.eml is classified as: Spam\n",
      "The email from test-emails/𝗬𝗼𝘂 𝗿𝗲𝗰𝗲𝗶𝘃𝗲𝗱 𝗮 𝗱𝗶𝗿𝗲𝗰𝘁 𝗱𝗲𝗽𝗼𝘀𝗶𝘁𝗲𝗱 𝗼𝗳 $18000,00.eml is classified as: Spam\n",
      "The email from test-emails/🟢 𝗬𝗼𝘂 𝗿𝗲𝗰𝗲𝗶𝘃𝗲𝗱 𝗮 𝗱𝗶𝗿𝗲𝗰𝘁 𝗱𝗲𝗽𝗼𝘀𝗶𝘁𝗲𝗱 𝗼𝗳 💲 5 500.00 -- ID_#44267.eml is classified as: Spam\n"
     ]
    }
   ],
   "source": [
    "# List objects in the S3 folder\n",
    "response = s3_client.list_objects_v2(Bucket=s3_bucket_name, Prefix=s3_folder)\n",
    "\n",
    "if 'Contents' in response:\n",
    "    for content in response['Contents']:\n",
    "        file_key = content['Key']\n",
    "        if file_key.endswith('.eml'):  # Ensure we're processing .eml files\n",
    "            # Read the email from S3\n",
    "            input_email = read_email_from_s3(file_key)\n",
    "\n",
    "            # Preprocess the input email\n",
    "            processed_email = preprocess_text(input_email)\n",
    "\n",
    "            # Predict using the loaded model\n",
    "            prediction = model.predict([processed_email])[0]\n",
    "\n",
    "            # Output the result\n",
    "            label = 'Spam' if prediction == 1 else 'Not Spam'\n",
    "            print(f'The email from {file_key} is classified as: {label}')\n",
    "else:\n",
    "    print(\"No emails found in the specified S3 folder.\")"
   ]
  },
  {
   "cell_type": "code",
   "execution_count": null,
   "id": "a5a96d77-a184-4980-96eb-c49f55de279a",
   "metadata": {},
   "outputs": [],
   "source": []
  }
 ],
 "metadata": {
  "kernelspec": {
   "display_name": "conda_python3",
   "language": "python",
   "name": "conda_python3"
  },
  "language_info": {
   "codemirror_mode": {
    "name": "ipython",
    "version": 3
   },
   "file_extension": ".py",
   "mimetype": "text/x-python",
   "name": "python",
   "nbconvert_exporter": "python",
   "pygments_lexer": "ipython3",
   "version": "3.10.14"
  }
 },
 "nbformat": 4,
 "nbformat_minor": 5
}
