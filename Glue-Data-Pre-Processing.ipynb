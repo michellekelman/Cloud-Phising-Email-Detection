{
	"metadata": {
		"kernelspec": {
			"name": "glue_pyspark",
			"display_name": "Glue PySpark",
			"language": "python"
		},
		"language_info": {
			"name": "Python_Glue_Session",
			"mimetype": "text/x-python",
			"codemirror_mode": {
				"name": "python",
				"version": 3
			},
			"pygments_lexer": "python3",
			"file_extension": ".py"
		}
	},
	"nbformat_minor": 4,
	"nbformat": 4,
	"cells": [
		{
			"cell_type": "code",
			"source": "import pyspark.sql.functions as F\nfrom pyspark.sql import SparkSession\nfrom pyspark.sql.functions import udf\nfrom pyspark.sql.types import StringType\nimport re\nfrom nltk.corpus import stopwords\nfrom nltk.stem import PorterStemmer\nimport nltk",
			"metadata": {
				"trusted": true,
				"tags": []
			},
			"execution_count": 41,
			"outputs": [
				{
					"name": "stdout",
					"text": "\n",
					"output_type": "stream"
				}
			]
		},
		{
			"cell_type": "code",
			"source": "# Initialize Spark Session\nspark = SparkSession.builder.appName(\"MyGlueNotebook\").getOrCreate()",
			"metadata": {
				"trusted": true,
				"tags": []
			},
			"execution_count": 42,
			"outputs": [
				{
					"name": "stdout",
					"text": "\n",
					"output_type": "stream"
				}
			]
		},
		{
			"cell_type": "code",
			"source": "# Read data from S3\ndf = spark.read.csv(\"s3://the-enron-email-dataset/combined_data.csv\", header=True, inferSchema=True)",
			"metadata": {
				"trusted": true,
				"tags": []
			},
			"execution_count": 43,
			"outputs": [
				{
					"name": "stdout",
					"text": "\n",
					"output_type": "stream"
				}
			]
		},
		{
			"cell_type": "code",
			"source": "df.show()",
			"metadata": {
				"trusted": true,
				"tags": []
			},
			"execution_count": 44,
			"outputs": [
				{
					"name": "stdout",
					"text": "+--------------------+--------------------+\n|               label|                text|\n+--------------------+--------------------+\n|                   1|ounce feather bow...|\n|                   1|wulvob get your m...|\n|                   0| computer connect...|\n|                   1|university degree...|\n|                   0|thanks for all yo...|\n|                   0|larry king live a...|\n|                   0|michael pobega wr...|\n|                   0|hi i have this er...|\n|                   1|works gateway wor...|\n|                   1|upon this account...|\n|                   1|my dear fellow do...|\n|                   1|dear valued membe...|\n|                   1|oem software mean...|\n|                   1|hello , welcome t...|\n|- one of the lead...|                null|\n|       coruscation v|                null|\n|          melinite g|                null|\n|    a collaborator l|                null|\n|          flaming ll|                null|\n|        l prestige a|                null|\n+--------------------+--------------------+\nonly showing top 20 rows\n",
					"output_type": "stream"
				}
			]
		},
		{
			"cell_type": "code",
			"source": "pandas_df = df.toPandas()\nprint(pandas_df.head())",
			"metadata": {
				"trusted": true,
				"tags": []
			},
			"execution_count": 45,
			"outputs": [
				{
					"name": "stdout",
					"text": "  label                                               text\n0     1  ounce feather bowl hummingbird opec moment ala...\n1     1  wulvob get your medircations online qnb ikud v...\n2     0   computer connection from cnn com wednesday es...\n3     1  university degree obtain a prosperous future m...\n4     0  thanks for all your answers guys i know i shou...\n",
					"output_type": "stream"
				}
			]
		},
		{
			"cell_type": "code",
			"source": "# Define the preprocessing function\ndef preprocess_text(text):\n    if text is None:\n        return \"\"  # Return empty string if text is None\n    \n    stemmer = PorterStemmer()\n\n    text = text.lower()  # Convert to lowercase\n    text = re.sub(r'\\d+', '', text)  # Remove numbers\n    text = re.sub(r'\\s+', ' ', text)  # Replace multiple spaces with a single space\n    text = re.sub(r'[^\\w\\s]', '', text)  # Remove punctuation\n    \n    # Stem the words (without stopwords removal)\n    words = text.split()\n    filtered_words = [stemmer.stem(word) for word in words]\n    return ' '.join(filtered_words)\n",
			"metadata": {
				"trusted": true,
				"tags": []
			},
			"execution_count": 46,
			"outputs": [
				{
					"name": "stdout",
					"text": "\n",
					"output_type": "stream"
				}
			]
		},
		{
			"cell_type": "code",
			"source": "# Register UDF\npreprocess_udf = udf(preprocess_text, StringType())",
			"metadata": {
				"trusted": true,
				"tags": []
			},
			"execution_count": 47,
			"outputs": [
				{
					"name": "stdout",
					"text": "\n",
					"output_type": "stream"
				}
			]
		},
		{
			"cell_type": "code",
			"source": "# Apply preprocessing function to the 'text' column\ndf_processed = df.withColumn(\"processed_text\", preprocess_udf(df[\"text\"]))",
			"metadata": {
				"trusted": true,
				"tags": []
			},
			"execution_count": 48,
			"outputs": [
				{
					"name": "stdout",
					"text": "\n",
					"output_type": "stream"
				}
			]
		},
		{
			"cell_type": "code",
			"source": "# Show results\ndf_processed.show()",
			"metadata": {
				"trusted": true,
				"tags": []
			},
			"execution_count": 49,
			"outputs": [
				{
					"name": "stdout",
					"text": "+--------------------+--------------------+--------------------+\n|               label|                text|      processed_text|\n+--------------------+--------------------+--------------------+\n|                   1|ounce feather bow...|ounc feather bowl...|\n|                   1|wulvob get your m...|wulvob get your m...|\n|                   0| computer connect...|comput connect fr...|\n|                   1|university degree...|univers degre obt...|\n|                   0|thanks for all yo...|thank for all you...|\n|                   0|larry king live a...|larri king live a...|\n|                   0|michael pobega wr...|michael pobega wr...|\n|                   0|hi i have this er...|hi i have thi err...|\n|                   1|works gateway wor...|work gateway worl...|\n|                   1|upon this account...|upon thi account ...|\n|                   1|my dear fellow do...|my dear fellow do...|\n|                   1|dear valued membe...|dear valu member ...|\n|                   1|oem software mean...|oem softwar mean ...|\n|                   1|hello , welcome t...|hello welcom to p...|\n|- one of the lead...|                null|                    |\n|       coruscation v|                null|                    |\n|          melinite g|                null|                    |\n|    a collaborator l|                null|                    |\n|          flaming ll|                null|                    |\n|        l prestige a|                null|                    |\n+--------------------+--------------------+--------------------+\nonly showing top 20 rows\n",
					"output_type": "stream"
				}
			]
		},
		{
			"cell_type": "code",
			"source": "# Save processed data back to S3 as CSV\ndf_processed.write.mode('overwrite').csv(\"s3://the-enron-email-dataset/output-data/\", header=True)",
			"metadata": {
				"trusted": true,
				"tags": []
			},
			"execution_count": 50,
			"outputs": [
				{
					"name": "stdout",
					"text": "\n",
					"output_type": "stream"
				}
			]
		},
		{
			"cell_type": "code",
			"source": "# Convert to Pandas DataFrame\npandas_df = df_processed.toPandas()\n\n# Show results as Pandas DataFrame\nprint(pandas_df.head())",
			"metadata": {
				"trusted": true,
				"tags": []
			},
			"execution_count": 51,
			"outputs": [
				{
					"name": "stdout",
					"text": "  label  ...                                     processed_text\n0     1  ...  ounc feather bowl hummingbird opec moment alab...\n1     1  ...  wulvob get your medirc onlin qnb ikud viagra e...\n2     0  ...  comput connect from cnn com wednesday escapenu...\n3     1  ...  univers degre obtain a prosper futur money ear...\n4     0  ...  thank for all your answer guy i know i should ...\n\n[5 rows x 3 columns]\n",
					"output_type": "stream"
				}
			]
		},
		{
			"cell_type": "code",
			"source": "",
			"metadata": {},
			"execution_count": null,
			"outputs": []
		}
	]
}