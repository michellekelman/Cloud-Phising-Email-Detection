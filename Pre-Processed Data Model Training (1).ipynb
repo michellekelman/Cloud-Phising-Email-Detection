{
 "cells": [
  {
   "cell_type": "code",
   "execution_count": 1,
   "id": "64f2e115-1dec-40ab-b0b1-ff6a29832a99",
   "metadata": {
    "tags": []
   },
   "outputs": [],
   "source": [
    "import boto3\n",
    "import pandas as pd\n",
    "from sklearn.feature_extraction.text import CountVectorizer, TfidfVectorizer\n",
    "from sklearn.naive_bayes import MultinomialNB\n",
    "from sklearn.linear_model import LogisticRegression\n",
    "from sklearn.svm import SVC\n",
    "from sklearn.ensemble import RandomForestClassifier\n",
    "from sklearn.pipeline import Pipeline\n",
    "from sklearn.metrics import accuracy_score, classification_report\n",
    "from sklearn.model_selection import train_test_split\n",
    "import joblib "
   ]
  },
  {
   "cell_type": "code",
   "execution_count": 2,
   "id": "e94b7069-5473-4133-8295-a3c63a61d06b",
   "metadata": {
    "tags": []
   },
   "outputs": [],
   "source": [
    "# Step 1: Download the preprocessed dataset from S3\n",
    "bucket_name = 'the-enron-email-dataset'  \n",
    "file_key = 'preprocessed_data.csv'\n",
    "local_file = 'preprocessed_data.csv'"
   ]
  },
  {
   "cell_type": "code",
   "execution_count": 3,
   "id": "ecb0f637-235d-4ec9-8997-a87f6a0f09e4",
   "metadata": {
    "tags": []
   },
   "outputs": [],
   "source": [
    "# Create an S3 client\n",
    "s3_client = boto3.client('s3')\n",
    "s3_client.download_file(bucket_name, file_key, local_file)\n",
    "\n",
    "# Load the preprocessed dataset\n",
    "data = pd.read_csv(local_file)"
   ]
  },
  {
   "cell_type": "code",
   "execution_count": 4,
   "id": "f99269f4-36d8-40c1-975c-1c278bf98de3",
   "metadata": {
    "tags": []
   },
   "outputs": [],
   "source": [
    "# Step 2: Handle Missing Values\n",
    "# Drop rows with missing text or label values\n",
    "data = data.dropna(subset=['text', 'label'])\n",
    "\n",
    "# Ensure 'text' column is of string type\n",
    "data['text'] = data['text'].astype(str)"
   ]
  },
  {
   "cell_type": "code",
   "execution_count": 5,
   "id": "82074bb9-b49d-4d6f-a1f2-53eb3409afa6",
   "metadata": {
    "tags": []
   },
   "outputs": [],
   "source": [
    "# Step 2: Prepare the data\n",
    "X = data['text']\n",
    "y = data['label']\n",
    "\n",
    "# Split the data into training and testing sets\n",
    "X_train, X_test, y_train, y_test = train_test_split(X, y, test_size=0.2, random_state=42)\n"
   ]
  },
  {
   "cell_type": "code",
   "execution_count": 6,
   "id": "c32afb51-84f0-4577-b980-950a84392646",
   "metadata": {
    "tags": []
   },
   "outputs": [],
   "source": [
    "# Step 3: Define the pipeline with different vectorizers for different models\n",
    "pipelines = {\n",
    "    'Naive Bayes': Pipeline([\n",
    "        ('vect', CountVectorizer()),\n",
    "        ('clf', MultinomialNB())\n",
    "    ]),\n",
    "    'Logistic Regression': Pipeline([\n",
    "        ('vect', CountVectorizer()),  \n",
    "        ('clf', LogisticRegression(max_iter=1000))  \n",
    "    ]),\n",
    "    'Random Forest': Pipeline([\n",
    "        ('vect', TfidfVectorizer()),  \n",
    "        ('clf', RandomForestClassifier())\n",
    "    ])\n",
    "}\n"
   ]
  },
  {
   "cell_type": "code",
   "execution_count": 7,
   "id": "3917cd3a-c90a-4d0d-a7ee-7a51998e4a37",
   "metadata": {
    "tags": []
   },
   "outputs": [
    {
     "name": "stdout",
     "output_type": "stream",
     "text": [
      "Training Naive Bayes...\n",
      "Results for Naive Bayes:\n",
      "Accuracy: 0.9735\n",
      "Classification Report:\n",
      "              precision    recall  f1-score   support\n",
      "\n",
      "           0       0.96      0.98      0.97      7947\n",
      "           1       0.98      0.96      0.97      8742\n",
      "\n",
      "    accuracy                           0.97     16689\n",
      "   macro avg       0.97      0.97      0.97     16689\n",
      "weighted avg       0.97      0.97      0.97     16689\n",
      "\n",
      "Training Logistic Regression...\n",
      "Results for Logistic Regression:\n",
      "Accuracy: 0.9844\n",
      "Classification Report:\n",
      "              precision    recall  f1-score   support\n",
      "\n",
      "           0       0.99      0.98      0.98      7947\n",
      "           1       0.98      0.99      0.99      8742\n",
      "\n",
      "    accuracy                           0.98     16689\n",
      "   macro avg       0.98      0.98      0.98     16689\n",
      "weighted avg       0.98      0.98      0.98     16689\n",
      "\n",
      "Training Random Forest...\n",
      "Results for Random Forest:\n",
      "Accuracy: 0.9808\n",
      "Classification Report:\n",
      "              precision    recall  f1-score   support\n",
      "\n",
      "           0       0.98      0.98      0.98      7947\n",
      "           1       0.98      0.98      0.98      8742\n",
      "\n",
      "    accuracy                           0.98     16689\n",
      "   macro avg       0.98      0.98      0.98     16689\n",
      "weighted avg       0.98      0.98      0.98     16689\n",
      "\n"
     ]
    }
   ],
   "source": [
    "# Step 5: Train and evaluate each model\n",
    "results = {}\n",
    "for name, pipeline in pipelines.items():\n",
    "    print(f\"Training {name}...\")\n",
    "    pipeline.fit(X_train, y_train)\n",
    "    y_pred = pipeline.predict(X_test)\n",
    "    accuracy = accuracy_score(y_test, y_pred)\n",
    "    classification_rep = classification_report(y_test, y_pred)\n",
    "    \n",
    "    results[name] = {\n",
    "        'accuracy': accuracy,\n",
    "        'classification_report': classification_rep\n",
    "    }\n",
    "    \n",
    "    print(f\"Results for {name}:\")\n",
    "    print(f\"Accuracy: {accuracy:.4f}\")\n",
    "    print(\"Classification Report:\")\n",
    "    print(classification_rep)"
   ]
  },
  {
   "cell_type": "code",
   "execution_count": 18,
   "id": "52cad825-4746-4c9d-a1db-0604fddf1742",
   "metadata": {},
   "outputs": [
    {
     "ename": "NameError",
     "evalue": "name 'pipeline_logistic_regression' is not defined",
     "output_type": "error",
     "traceback": [
      "\u001b[0;31m---------------------------------------------------------------------------\u001b[0m",
      "\u001b[0;31mNameError\u001b[0m                                 Traceback (most recent call last)",
      "Cell \u001b[0;32mIn[18], line 6\u001b[0m\n\u001b[1;32m      2\u001b[0m s3_client \u001b[38;5;241m=\u001b[39m boto3\u001b[38;5;241m.\u001b[39mclient(\u001b[38;5;124m'\u001b[39m\u001b[38;5;124ms3\u001b[39m\u001b[38;5;124m'\u001b[39m)\n\u001b[1;32m      4\u001b[0m \u001b[38;5;66;03m# Define the models to save and upload\u001b[39;00m\n\u001b[1;32m      5\u001b[0m models \u001b[38;5;241m=\u001b[39m {\n\u001b[0;32m----> 6\u001b[0m     \u001b[38;5;124m'\u001b[39m\u001b[38;5;124mLogistic Regression\u001b[39m\u001b[38;5;124m'\u001b[39m: \u001b[43mpipeline_logistic_regression\u001b[49m,\n\u001b[1;32m      7\u001b[0m     \u001b[38;5;124m'\u001b[39m\u001b[38;5;124mNaive Bayes\u001b[39m\u001b[38;5;124m'\u001b[39m: pipeline_naive_bayes,\n\u001b[1;32m      8\u001b[0m     \u001b[38;5;124m'\u001b[39m\u001b[38;5;124mRandom Forest\u001b[39m\u001b[38;5;124m'\u001b[39m: pipeline_random_forest\n\u001b[1;32m      9\u001b[0m }\n\u001b[1;32m     11\u001b[0m \u001b[38;5;66;03m# Local paths for saving the models\u001b[39;00m\n\u001b[1;32m     12\u001b[0m local_model_paths \u001b[38;5;241m=\u001b[39m {\n\u001b[1;32m     13\u001b[0m     \u001b[38;5;124m'\u001b[39m\u001b[38;5;124mLogistic Regression\u001b[39m\u001b[38;5;124m'\u001b[39m: \u001b[38;5;124m'\u001b[39m\u001b[38;5;124mCountVectorizer_Logistic_Regression_model.pkl\u001b[39m\u001b[38;5;124m'\u001b[39m,\n\u001b[1;32m     14\u001b[0m     \u001b[38;5;124m'\u001b[39m\u001b[38;5;124mNaive Bayes\u001b[39m\u001b[38;5;124m'\u001b[39m: \u001b[38;5;124m'\u001b[39m\u001b[38;5;124mCountVectorizer_Naive_Bayes_model.pkl\u001b[39m\u001b[38;5;124m'\u001b[39m,\n\u001b[1;32m     15\u001b[0m     \u001b[38;5;124m'\u001b[39m\u001b[38;5;124mRandom Forest\u001b[39m\u001b[38;5;124m'\u001b[39m: \u001b[38;5;124m'\u001b[39m\u001b[38;5;124mTfidfVectorizer_Random_Forest_model.pkl\u001b[39m\u001b[38;5;124m'\u001b[39m\n\u001b[1;32m     16\u001b[0m }\n",
      "\u001b[0;31mNameError\u001b[0m: name 'pipeline_logistic_regression' is not defined"
     ]
    }
   ],
   "source": [
    "# Initialize S3 client\n",
    "s3_client = boto3.client('s3')\n",
    "\n",
    "# Define the models to save and upload\n",
    "models = {\n",
    "    'Logistic Regression': pipeline_logistic_regression,\n",
    "    'Naive Bayes': pipeline_naive_bayes,\n",
    "    'Random Forest': pipeline_random_forest\n",
    "}\n",
    "\n",
    "# Local paths for saving the models\n",
    "local_model_paths = {\n",
    "    'Logistic Regression': 'CountVectorizer_Logistic_Regression_model.pkl',\n",
    "    'Naive Bayes': 'CountVectorizer_Naive_Bayes_model.pkl',\n",
    "    'Random Forest': 'TfidfVectorizer_Random_Forest_model.pkl'\n",
    "}\n",
    "\n",
    "# S3 paths for uploading the models\n",
    "s3_model_paths = {\n",
    "    'Logistic Regression': 'models/CountVectorizer_Logistic_Regression_model.pkl',\n",
    "    'Naive Bayes': 'models/CountVectorizer_Naive_Bayes_model.pkl',\n",
    "    'Random Forest': 'models/TfidfVectorizer_Random_Forest_model.pkl'\n",
    "}\n",
    "\n",
    "# Save and upload each model\n",
    "for model_name, model in models.items():\n",
    "    local_path = local_model_paths[model_name]\n",
    "    s3_path = s3_model_paths[model_name]\n",
    "\n",
    "    # Save the model locally\n",
    "    try:\n",
    "        joblib.dump(model, local_path)\n",
    "        print(f'{model_name} model saved locally as {local_path}')\n",
    "    except Exception as e:\n",
    "        print(f'Error saving {model_name} model locally: {e}')\n",
    "\n",
    "    # Upload the model to S3\n",
    "    try:\n",
    "        s3_client.upload_file(local_path, bucket_name, s3_path)\n",
    "        print(f'{local_path} has been uploaded to s3://{bucket_name}/{s3_path}')\n",
    "    except Exception as e:\n",
    "        print(f'Error uploading {local_path} to S3: {e}')"
   ]
  },
  {
   "cell_type": "code",
   "execution_count": null,
   "id": "8dd5304d-e09c-4cc2-8097-f3b23504aa63",
   "metadata": {},
   "outputs": [],
   "source": []
  }
 ],
 "metadata": {
  "kernelspec": {
   "display_name": "conda_python3",
   "language": "python",
   "name": "conda_python3"
  },
  "language_info": {
   "codemirror_mode": {
    "name": "ipython",
    "version": 3
   },
   "file_extension": ".py",
   "mimetype": "text/x-python",
   "name": "python",
   "nbconvert_exporter": "python",
   "pygments_lexer": "ipython3",
   "version": "3.10.14"
  }
 },
 "nbformat": 4,
 "nbformat_minor": 5
}
