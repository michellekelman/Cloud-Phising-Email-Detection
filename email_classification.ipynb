{
 "cells": [
  {
   "cell_type": "code",
   "execution_count": 1,
   "id": "a5d5f928-8902-4c89-8c2b-5b8cadc657b4",
   "metadata": {
    "tags": []
   },
   "outputs": [
    {
     "name": "stdout",
     "output_type": "stream",
     "text": [
      "Requirement already satisfied: pandas in /home/ec2-user/anaconda3/envs/python3/lib/python3.10/site-packages (2.2.2)\n",
      "Requirement already satisfied: scikit-learn in /home/ec2-user/anaconda3/envs/python3/lib/python3.10/site-packages (1.5.0)\n",
      "Requirement already satisfied: boto3 in /home/ec2-user/anaconda3/envs/python3/lib/python3.10/site-packages (1.34.143)\n",
      "Requirement already satisfied: numpy>=1.22.4 in /home/ec2-user/anaconda3/envs/python3/lib/python3.10/site-packages (from pandas) (1.22.4)\n",
      "Requirement already satisfied: python-dateutil>=2.8.2 in /home/ec2-user/anaconda3/envs/python3/lib/python3.10/site-packages (from pandas) (2.9.0)\n",
      "Requirement already satisfied: pytz>=2020.1 in /home/ec2-user/anaconda3/envs/python3/lib/python3.10/site-packages (from pandas) (2024.1)\n",
      "Requirement already satisfied: tzdata>=2022.7 in /home/ec2-user/anaconda3/envs/python3/lib/python3.10/site-packages (from pandas) (2024.1)\n",
      "Requirement already satisfied: scipy>=1.6.0 in /home/ec2-user/anaconda3/envs/python3/lib/python3.10/site-packages (from scikit-learn) (1.13.1)\n",
      "Requirement already satisfied: joblib>=1.2.0 in /home/ec2-user/anaconda3/envs/python3/lib/python3.10/site-packages (from scikit-learn) (1.4.2)\n",
      "Requirement already satisfied: threadpoolctl>=3.1.0 in /home/ec2-user/anaconda3/envs/python3/lib/python3.10/site-packages (from scikit-learn) (3.5.0)\n",
      "Requirement already satisfied: botocore<1.35.0,>=1.34.143 in /home/ec2-user/anaconda3/envs/python3/lib/python3.10/site-packages (from boto3) (1.34.143)\n",
      "Requirement already satisfied: jmespath<2.0.0,>=0.7.1 in /home/ec2-user/anaconda3/envs/python3/lib/python3.10/site-packages (from boto3) (1.0.1)\n",
      "Requirement already satisfied: s3transfer<0.11.0,>=0.10.0 in /home/ec2-user/anaconda3/envs/python3/lib/python3.10/site-packages (from boto3) (0.10.1)\n",
      "Requirement already satisfied: urllib3!=2.2.0,<3,>=1.25.4 in /home/ec2-user/anaconda3/envs/python3/lib/python3.10/site-packages (from botocore<1.35.0,>=1.34.143->boto3) (2.2.1)\n",
      "Requirement already satisfied: six>=1.5 in /home/ec2-user/anaconda3/envs/python3/lib/python3.10/site-packages (from python-dateutil>=2.8.2->pandas) (1.16.0)\n"
     ]
    }
   ],
   "source": [
    "!pip install pandas scikit-learn boto3"
   ]
  },
  {
   "cell_type": "code",
   "execution_count": 12,
   "id": "e1fd32b3-a66d-46a7-9c0a-b9bd648cd594",
   "metadata": {
    "tags": []
   },
   "outputs": [],
   "source": [
    "import boto3\n",
    "import pandas as pd\n",
    "import numpy as np\n",
    "import re\n",
    "from sklearn.model_selection import train_test_split\n",
    "from sklearn.feature_extraction.text import CountVectorizer, TfidfVectorizer\n",
    "from sklearn.naive_bayes import MultinomialNB\n",
    "from sklearn.linear_model import LogisticRegression\n",
    "from sklearn.svm import SVC\n",
    "from sklearn.ensemble import RandomForestClassifier\n",
    "from sklearn.pipeline import Pipeline\n",
    "from sklearn.metrics import accuracy_score\n",
    "import joblib"
   ]
  },
  {
   "cell_type": "code",
   "execution_count": 13,
   "id": "a3ee6205-c38d-43a5-9cd0-477ef8f1441d",
   "metadata": {
    "tags": []
   },
   "outputs": [],
   "source": [
    "# Step 1: Download Dataset from S3\n",
    "bucket_name = 'the-enron-email-dataset'\n",
    "file_key = 'combined_data.csv'\n",
    "local_file = 'dataset.csv'"
   ]
  },
  {
   "cell_type": "code",
   "execution_count": 14,
   "id": "d7547d5d-f3b6-43a3-94f7-19f4f76bb86f",
   "metadata": {
    "tags": []
   },
   "outputs": [],
   "source": [
    "# Create an S3 client\n",
    "s3_client = boto3.client('s3')\n",
    "s3_client.download_file(bucket_name, file_key, local_file)"
   ]
  },
  {
   "cell_type": "code",
   "execution_count": 15,
   "id": "e89d97e1-1547-4269-8ae6-cbf5760c2f0f",
   "metadata": {
    "tags": []
   },
   "outputs": [],
   "source": [
    "# Load the dataset\n",
    "data = pd.read_csv(local_file)"
   ]
  },
  {
   "cell_type": "code",
   "execution_count": 16,
   "id": "28f3f629-324f-44e9-836b-09dfd350de17",
   "metadata": {
    "tags": []
   },
   "outputs": [],
   "source": [
    "# Step 2: Preprocess the Data\n",
    "def preprocess_text(text):\n",
    "    text = text.lower()  # Convert to lowercase\n",
    "    text = re.sub(r'\\d+', '', text)  # Remove numbers\n",
    "    text = re.sub(r'\\s+', ' ', text)  # Replace multiple spaces with a single space\n",
    "    text = re.sub(r'[^\\w\\s]', '', text)  # Remove punctuation\n",
    "    return text"
   ]
  },
  {
   "cell_type": "code",
   "execution_count": 17,
   "id": "a99f2372-bad5-46e8-ac8f-d24bae84e6bd",
   "metadata": {
    "tags": []
   },
   "outputs": [],
   "source": [
    "# Apply preprocessing\n",
    "data['text'] = data['text'].apply(preprocess_text)"
   ]
  },
  {
   "cell_type": "code",
   "execution_count": 18,
   "id": "2694ff0a-a411-4abe-ba67-2be70a5fd75a",
   "metadata": {
    "tags": []
   },
   "outputs": [],
   "source": [
    "# Step 2: Preprocess the Data\n",
    "# Split the data into features and labels\n",
    "X = data['text']\n",
    "y = data['label']\n",
    "\n",
    "# Split the data into training and test sets\n",
    "X_train, X_test, y_train, y_test = train_test_split(X, y, test_size=0.2, random_state=42)"
   ]
  },
  {
   "cell_type": "code",
   "execution_count": 21,
   "id": "021d5adf-79ae-4090-9211-46d8fae8fbab",
   "metadata": {
    "tags": []
   },
   "outputs": [],
   "source": [
    "# Define vectorizers and models\n",
    "vectorizers = {\n",
    "    'CountVectorizer': CountVectorizer(),\n",
    "    'TfidfVectorizer': TfidfVectorizer()\n",
    "}\n",
    "\n",
    "models = {\n",
    "    'Naive Bayes': MultinomialNB(),\n",
    "    'Logistic Regression': LogisticRegression(max_iter=1000),\n",
    "    'Random Forest': RandomForestClassifier()\n",
    "}"
   ]
  },
  {
   "cell_type": "code",
   "execution_count": null,
   "id": "6c226bb9-d142-4e8a-b27e-4ce871a88b5d",
   "metadata": {
    "tags": []
   },
   "outputs": [
    {
     "name": "stdout",
     "output_type": "stream",
     "text": [
      "CountVectorizer + Naive Bayes Accuracy: 0.9753\n",
      "CountVectorizer + Naive Bayes model saved as CountVectorizer_Naive_Bayes_model.pkl\n",
      "CountVectorizer + Logistic Regression Accuracy: 0.9859\n",
      "CountVectorizer + Logistic Regression model saved as CountVectorizer_Logistic_Regression_model.pkl\n",
      "TfidfVectorizer + Random Forest Accuracy: 0.9841\n",
      "TfidfVectorizer + Random Forest model saved as TfidfVectorizer_Random_Forest_model.pkl\n"
     ]
    }
   ],
   "source": [
    "# Train models and evaluate accuracy\n",
    "for vectorizer_name, vectorizer in vectorizers.items():\n",
    "    for model_name, model in models.items():\n",
    "        pipeline = Pipeline([\n",
    "            ('vectorizer', vectorizer),\n",
    "            ('classifier', model)\n",
    "        ])\n",
    "        \n",
    "        # Train the model\n",
    "        pipeline.fit(X_train, y_train)\n",
    "        \n",
    "        # Predict on the test set\n",
    "        y_pred = pipeline.predict(X_test)\n",
    "        \n",
    "        # Print the accuracy\n",
    "        accuracy = accuracy_score(y_test, y_pred)\n",
    "        print(f'{vectorizer_name} + {model_name} Accuracy: {accuracy:.4f}')\n",
    "        \n",
    "        # Save the model\n",
    "        joblib.dump(pipeline, f'{vectorizer_name.replace(\" \", \"_\")}_{model_name.replace(\" \", \"_\")}_model.pkl')\n",
    "        print(f'{vectorizer_name} + {model_name} model saved as {vectorizer_name.replace(\" \", \"_\")}_{model_name.replace(\" \", \"_\")}_model.pkl')"
   ]
  },
  {
   "cell_type": "code",
   "execution_count": null,
   "id": "b451319f-9419-4770-9166-a10a3cf3be15",
   "metadata": {},
   "outputs": [],
   "source": []
  }
 ],
 "metadata": {
  "kernelspec": {
   "display_name": "conda_python3",
   "language": "python",
   "name": "conda_python3"
  },
  "language_info": {
   "codemirror_mode": {
    "name": "ipython",
    "version": 3
   },
   "file_extension": ".py",
   "mimetype": "text/x-python",
   "name": "python",
   "nbconvert_exporter": "python",
   "pygments_lexer": "ipython3",
   "version": "3.10.14"
  }
 },
 "nbformat": 4,
 "nbformat_minor": 5
}
